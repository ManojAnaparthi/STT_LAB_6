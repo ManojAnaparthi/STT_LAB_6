{
 "cells": [
  {
   "cell_type": "code",
   "execution_count": 2,
   "id": "7e0413a6",
   "metadata": {},
   "outputs": [
    {
     "data": {
      "text/html": [
       "<div>\n",
       "<style scoped>\n",
       "    .dataframe tbody tr th:only-of-type {\n",
       "        vertical-align: middle;\n",
       "    }\n",
       "\n",
       "    .dataframe tbody tr th {\n",
       "        vertical-align: top;\n",
       "    }\n",
       "\n",
       "    .dataframe thead th {\n",
       "        text-align: right;\n",
       "    }\n",
       "</style>\n",
       "<table border=\"1\" class=\"dataframe\">\n",
       "  <thead>\n",
       "    <tr style=\"text-align: right;\">\n",
       "      <th></th>\n",
       "      <th>Project_name</th>\n",
       "      <th>Tool_name</th>\n",
       "      <th>CWE_ID</th>\n",
       "      <th>Number_of_Findings</th>\n",
       "      <th>Is_In_CWE_Top_25</th>\n",
       "    </tr>\n",
       "  </thead>\n",
       "  <tbody>\n",
       "    <tr>\n",
       "      <th>0</th>\n",
       "      <td>brpc</td>\n",
       "      <td>cppcheck</td>\n",
       "      <td>398</td>\n",
       "      <td>187</td>\n",
       "      <td>No</td>\n",
       "    </tr>\n",
       "    <tr>\n",
       "      <th>1</th>\n",
       "      <td>brpc</td>\n",
       "      <td>cppcheck</td>\n",
       "      <td>563</td>\n",
       "      <td>39</td>\n",
       "      <td>No</td>\n",
       "    </tr>\n",
       "    <tr>\n",
       "      <th>2</th>\n",
       "      <td>brpc</td>\n",
       "      <td>cppcheck</td>\n",
       "      <td>704</td>\n",
       "      <td>7</td>\n",
       "      <td>No</td>\n",
       "    </tr>\n",
       "    <tr>\n",
       "      <th>3</th>\n",
       "      <td>brpc</td>\n",
       "      <td>cppcheck</td>\n",
       "      <td>570</td>\n",
       "      <td>8</td>\n",
       "      <td>No</td>\n",
       "    </tr>\n",
       "    <tr>\n",
       "      <th>4</th>\n",
       "      <td>brpc</td>\n",
       "      <td>cppcheck</td>\n",
       "      <td>686</td>\n",
       "      <td>20</td>\n",
       "      <td>No</td>\n",
       "    </tr>\n",
       "    <tr>\n",
       "      <th>...</th>\n",
       "      <td>...</td>\n",
       "      <td>...</td>\n",
       "      <td>...</td>\n",
       "      <td>...</td>\n",
       "      <td>...</td>\n",
       "    </tr>\n",
       "    <tr>\n",
       "      <th>79</th>\n",
       "      <td>terminal</td>\n",
       "      <td>flawfinder</td>\n",
       "      <td>119</td>\n",
       "      <td>97</td>\n",
       "      <td>Yes</td>\n",
       "    </tr>\n",
       "    <tr>\n",
       "      <th>80</th>\n",
       "      <td>terminal</td>\n",
       "      <td>flawfinder</td>\n",
       "      <td>120</td>\n",
       "      <td>243</td>\n",
       "      <td>No</td>\n",
       "    </tr>\n",
       "    <tr>\n",
       "      <th>81</th>\n",
       "      <td>terminal</td>\n",
       "      <td>flawfinder</td>\n",
       "      <td>362</td>\n",
       "      <td>5</td>\n",
       "      <td>Yes</td>\n",
       "    </tr>\n",
       "    <tr>\n",
       "      <th>82</th>\n",
       "      <td>terminal</td>\n",
       "      <td>flawfinder</td>\n",
       "      <td>190</td>\n",
       "      <td>3</td>\n",
       "      <td>Yes</td>\n",
       "    </tr>\n",
       "    <tr>\n",
       "      <th>83</th>\n",
       "      <td>terminal</td>\n",
       "      <td>flawfinder</td>\n",
       "      <td>126</td>\n",
       "      <td>72</td>\n",
       "      <td>No</td>\n",
       "    </tr>\n",
       "  </tbody>\n",
       "</table>\n",
       "<p>84 rows × 5 columns</p>\n",
       "</div>"
      ],
      "text/plain": [
       "   Project_name   Tool_name  CWE_ID  Number_of_Findings Is_In_CWE_Top_25\n",
       "0          brpc    cppcheck     398                 187               No\n",
       "1          brpc    cppcheck     563                  39               No\n",
       "2          brpc    cppcheck     704                   7               No\n",
       "3          brpc    cppcheck     570                   8               No\n",
       "4          brpc    cppcheck     686                  20               No\n",
       "..          ...         ...     ...                 ...              ...\n",
       "79     terminal  flawfinder     119                  97              Yes\n",
       "80     terminal  flawfinder     120                 243               No\n",
       "81     terminal  flawfinder     362                   5              Yes\n",
       "82     terminal  flawfinder     190                   3              Yes\n",
       "83     terminal  flawfinder     126                  72               No\n",
       "\n",
       "[84 rows x 5 columns]"
      ]
     },
     "execution_count": 2,
     "metadata": {},
     "output_type": "execute_result"
    }
   ],
   "source": [
    "import pandas as pd\n",
    "import matplotlib.pyplot as plt\n",
    "\n",
    "df=pd.read_csv(\"consolidated_vulnerability_results.csv\")\n",
    "df"
   ]
  },
  {
   "cell_type": "code",
   "execution_count": 3,
   "id": "8787ca47",
   "metadata": {},
   "outputs": [
    {
     "data": {
      "image/png": "[encoded data removed]",
      "text/plain": [
       "<Figure size 800x500 with 1 Axes>"
      ]
     },
     "metadata": {},
     "output_type": "display_data"
    }
   ],
   "source": [
    "# Extract unique CWE IDs detected by each tool\n",
    "cwe_by_tool = df.groupby('Tool_name')['CWE_ID'].unique()\n",
    "\n",
    "# Compute Top 25 CWE coverage (%) at the tool level\n",
    "coverage = []\n",
    "for tool, cwe_list in cwe_by_tool.items():\n",
    "    top25_cwes = df[(df['Tool_name'] == tool) & (df['CWE_ID'].isin(cwe_list)) & (df['Is_In_CWE_Top_25'] == 'Yes')]['CWE_ID'].unique()\n",
    "    percent = (len(top25_cwes) / len(cwe_list)) * 100 if len(cwe_list) > 0 else 0\n",
    "    coverage.append({'Tool': tool, 'Top25_Coverage(%)': percent})\n",
    "\n",
    "coverage_df = pd.DataFrame(coverage)\n",
    "\n",
    "# Visualize coverage with a bar plot\n",
    "plt.figure(figsize=(8,5))\n",
    "plt.bar(coverage_df['Tool'], coverage_df['Top25_Coverage(%)'], color='skyblue')\n",
    "plt.ylabel('Top 25 CWE Coverage (%)')\n",
    "plt.xlabel('Tool')\n",
    "plt.title('Top 25 CWE Coverage by Tool')\n",
    "plt.ylim(0, 100)\n",
    "plt.show()"
   ]
  },
  {
   "cell_type": "code",
   "execution_count": 4,
   "id": "40870847",
   "metadata": {},
   "outputs": [
    {
     "data": {
      "text/html": [
       "<div>\n",
       "<style scoped>\n",
       "    .dataframe tbody tr th:only-of-type {\n",
       "        vertical-align: middle;\n",
       "    }\n",
       "\n",
       "    .dataframe tbody tr th {\n",
       "        vertical-align: top;\n",
       "    }\n",
       "\n",
       "    .dataframe thead th {\n",
       "        text-align: right;\n",
       "    }\n",
       "</style>\n",
       "<table border=\"1\" class=\"dataframe\">\n",
       "  <thead>\n",
       "    <tr style=\"text-align: right;\">\n",
       "      <th></th>\n",
       "      <th>Tool</th>\n",
       "      <th>Top25_Coverage(%)</th>\n",
       "    </tr>\n",
       "  </thead>\n",
       "  <tbody>\n",
       "    <tr>\n",
       "      <th>0</th>\n",
       "      <td>cppcheck</td>\n",
       "      <td>9.52381</td>\n",
       "    </tr>\n",
       "    <tr>\n",
       "      <th>1</th>\n",
       "      <td>flawfinder</td>\n",
       "      <td>37.50000</td>\n",
       "    </tr>\n",
       "    <tr>\n",
       "      <th>2</th>\n",
       "      <td>semgrep</td>\n",
       "      <td>20.00000</td>\n",
       "    </tr>\n",
       "  </tbody>\n",
       "</table>\n",
       "</div>"
      ],
      "text/plain": [
       "         Tool  Top25_Coverage(%)\n",
       "0    cppcheck            9.52381\n",
       "1  flawfinder           37.50000\n",
       "2     semgrep           20.00000"
      ]
     },
     "execution_count": 4,
     "metadata": {},
     "output_type": "execute_result"
    }
   ],
   "source": [
    "coverage_df"
   ]
  },
  {
   "cell_type": "code",
   "execution_count": 5,
   "id": "4c4f3182",
   "metadata": {},
   "outputs": [
    {
     "data": {
      "text/html": [
       "<div>\n",
       "<style scoped>\n",
       "    .dataframe tbody tr th:only-of-type {\n",
       "        vertical-align: middle;\n",
       "    }\n",
       "\n",
       "    .dataframe tbody tr th {\n",
       "        vertical-align: top;\n",
       "    }\n",
       "\n",
       "    .dataframe thead th {\n",
       "        text-align: right;\n",
       "    }\n",
       "</style>\n",
       "<table border=\"1\" class=\"dataframe\">\n",
       "  <thead>\n",
       "    <tr style=\"text-align: right;\">\n",
       "      <th></th>\n",
       "      <th>cppcheck</th>\n",
       "      <th>flawfinder</th>\n",
       "      <th>semgrep</th>\n",
       "    </tr>\n",
       "  </thead>\n",
       "  <tbody>\n",
       "    <tr>\n",
       "      <th>cppcheck</th>\n",
       "      <td>1.000000</td>\n",
       "      <td>0.027778</td>\n",
       "      <td>0.000000</td>\n",
       "    </tr>\n",
       "    <tr>\n",
       "      <th>flawfinder</th>\n",
       "      <td>0.027778</td>\n",
       "      <td>1.000000</td>\n",
       "      <td>0.083333</td>\n",
       "    </tr>\n",
       "    <tr>\n",
       "      <th>semgrep</th>\n",
       "      <td>0.000000</td>\n",
       "      <td>0.083333</td>\n",
       "      <td>1.000000</td>\n",
       "    </tr>\n",
       "  </tbody>\n",
       "</table>\n",
       "</div>"
      ],
      "text/plain": [
       "            cppcheck  flawfinder   semgrep\n",
       "cppcheck    1.000000    0.027778  0.000000\n",
       "flawfinder  0.027778    1.000000  0.083333\n",
       "semgrep     0.000000    0.083333  1.000000"
      ]
     },
     "metadata": {},
     "output_type": "display_data"
    },
    {
     "data": {
      "text/plain": [
       "<Axes: >"
      ]
     },
     "execution_count": 5,
     "metadata": {},
     "output_type": "execute_result"
    },
    {
     "data": {
      "image/png": "[encoded data removed]",
      "text/plain": [
       "<Figure size 640x480 with 2 Axes>"
      ]
     },
     "metadata": {},
     "output_type": "display_data"
    }
   ],
   "source": [
    "# Get unique CWE IDs detected by each tool as sets\n",
    "cwe_by_tool = df.groupby('Tool_name')['CWE_ID'].unique().apply(set)\n",
    "\n",
    "# List of tool names\n",
    "tools = list(cwe_by_tool.index)\n",
    "\n",
    "# Initialize IoU matrix\n",
    "import numpy as np\n",
    "iou_matrix = np.zeros((len(tools), len(tools)))\n",
    "\n",
    "# Compute IoU for each tool pair\n",
    "for i, tool1 in enumerate(tools):\n",
    "    for j, tool2 in enumerate(tools):\n",
    "        set1 = cwe_by_tool[tool1]\n",
    "        set2 = cwe_by_tool[tool2]\n",
    "        intersection = len(set1 & set2)\n",
    "        union = len(set1 | set2)\n",
    "        iou = intersection / union if union > 0 else 0\n",
    "        iou_matrix[i, j] = iou\n",
    "\n",
    "# Create DataFrame for better display\n",
    "iou_df = pd.DataFrame(iou_matrix, index=tools, columns=tools)\n",
    "display(iou_df)\n",
    "\n",
    "import seaborn as sns\n",
    "sns.heatmap(iou_df, annot=True, cmap='Blues')\n"
   ]
  },
  {
   "cell_type": "markdown",
   "id": "d4ac3099",
   "metadata": {},
   "source": [
    "QN-Interpret the Matrix: along the lines of Jaccard Index (IoU), what insights can\n",
    "you obtain about similarity/diversity of tools based on the vulnerability\n",
    "analysis results?\n",
    "\n",
    "Ans- The pairwise IoU values between tools were low (0.0–0.08), indicating limited overlap in CWE detection.\n",
    "This suggests that each tool identifies distinct categories of vulnerabilities, likely due to differences in their analysis techniques and rule bases. Consequently, using multiple static analysis tools in combination can provide broader coverage of weaknesses. "
   ]
  },
  {
   "cell_type": "markdown",
   "id": "b7255f5b",
   "metadata": {},
   "source": [
    "QN-Explain the Matrix: which tool combination maximizes CWE coverage? What\n",
    "are the takeaways of your analyses?\n",
    "\n",
    "Ans- Flawfinder maximises the top 25 cwe coverage(37.5%) whereas Semgrep's 20% cwe id's consist of top 25 and 9.5% of Cppcheck's cwe ids are of top 25, we can observe that each tool targets different categories of vulnerabilities. Some tools focus on the CWE Top 25 weaknesses, while others specialize in narrower or specific issues. This indicates that no single tool provides comprehensive coverage, and combining multiple static analysis tools can lead to broader and more effective vulnerability detection across diverse CWE categories."
   ]
  },
  {
   "cell_type": "code",
   "execution_count": null,
   "id": "e71d3f2c",
   "metadata": {},
   "outputs": [],
   "source": []
  }
 ],
 "metadata": {
  "kernelspec": {
   "display_name": "ml_env",
   "language": "python",
   "name": "python3"
  },
  "language_info": {
   "codemirror_mode": {
    "name": "ipython",
    "version": 3
   },
   "file_extension": ".py",
   "mimetype": "text/x-python",
   "name": "python",
   "nbconvert_exporter": "python",
   "pygments_lexer": "ipython3",
   "version": "3.9.21"
  }
 },
 "nbformat": 4,
 "nbformat_minor": 5
}
